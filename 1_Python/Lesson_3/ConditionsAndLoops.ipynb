{
 "cells": [
  {
   "cell_type": "code",
   "execution_count": 20,
   "id": "1fa7b054-1518-491a-916c-152155ba72aa",
   "metadata": {},
   "outputs": [
    {
     "name": "stdout",
     "output_type": "stream",
     "text": [
      "['смотреть сериалы онлайн', 'курс доллара', 'сериалы этим летом', 'курс по питону', 'сериалы про спорт']\n"
     ]
    }
   ],
   "source": [
    "queries = \"смотреть сериалы онлайн,новости спорта,афиша кино,курс доллара,сериалы этим летом,курс по питону,сериалы про спорт\"\n",
    "queries = queries.split(',')\n",
    "words = ['сериалы', 'курс'] \n",
    "queries_true = []\n",
    "for i in range(len(queries)):\n",
    "    for j in range(len(words)):\n",
    "        if words[j] in queries[i]:\n",
    "            queries_true.append(queries[i])\n",
    "print(queries_true)"
   ]
  },
  {
   "cell_type": "code",
   "execution_count": 40,
   "id": "1ed12f3f-e0c8-4234-bf74-4334c8e17908",
   "metadata": {},
   "outputs": [
    {
     "name": "stdout",
     "output_type": "stream",
     "text": [
      "[5, 7, 9, 11, 13, 15, 17, 19, 21, 23, 25, 27, 29, 31, 33, 35, 37, 39, 41, 43, 45, 47, 49, 51, 53, 55]\n"
     ]
    }
   ],
   "source": [
    "num = []\n",
    "for i in range(5, 56):\n",
    "    if i%2 != 0:\n",
    "        num.append(i)\n",
    "print(num)"
   ]
  },
  {
   "cell_type": "code",
   "execution_count": 45,
   "id": "c1615709-329b-4fcb-8e72-aed327f7980a",
   "metadata": {},
   "outputs": [
    {
     "name": "stdin",
     "output_type": "stream",
     "text": [
      " 1\n",
      " 2\n",
      " 3\n",
      " 4\n",
      " 0\n"
     ]
    },
    {
     "name": "stdout",
     "output_type": "stream",
     "text": [
      "10\n"
     ]
    }
   ],
   "source": [
    "sum = 0\n",
    "while True:\n",
    "    number = int(input())\n",
    "    if number != 0:\n",
    "        sum += number\n",
    "    else:\n",
    "        print(sum)\n",
    "        break\n",
    "        "
   ]
  },
  {
   "cell_type": "code",
   "execution_count": 47,
   "id": "3c26a20d-5b85-4d7e-aa1a-9a94fdf37b59",
   "metadata": {},
   "outputs": [
    {
     "name": "stdin",
     "output_type": "stream",
     "text": [
      " 1\n",
      " 3\n",
      " 78\n"
     ]
    },
    {
     "name": "stdout",
     "output_type": "stream",
     "text": [
      "78\n"
     ]
    },
    {
     "name": "stdin",
     "output_type": "stream",
     "text": [
      " 122\n"
     ]
    }
   ],
   "source": [
    "while True:\n",
    "    number = int(input())\n",
    "    if number < 10:\n",
    "        continue\n",
    "    elif number > 100:\n",
    "        break\n",
    "    else:\n",
    "        print(number)"
   ]
  },
  {
   "cell_type": "code",
   "execution_count": 75,
   "id": "9a980732-68de-4d71-a209-59ce7781d2f3",
   "metadata": {},
   "outputs": [
    {
     "name": "stdin",
     "output_type": "stream",
     "text": [
      " 23 32 23 32\n",
      " 23\n"
     ]
    },
    {
     "name": "stdout",
     "output_type": "stream",
     "text": [
      "0 2 \n"
     ]
    }
   ],
   "source": [
    "lst = str(input())\n",
    "lst = lst.split(' ')\n",
    "x = int(input())\n",
    "list = ''\n",
    "if str(x) in lst:\n",
    "    for i in range(len(lst)):\n",
    "        if x == int(lst[i]):\n",
    "            list += str(i) + ' '\n",
    "    print(list)\n",
    "else:\n",
    "    print(\"Отсутствует\")"
   ]
  },
  {
   "cell_type": "code",
   "execution_count": null,
   "id": "eea1c50f-89e0-4164-8d1f-a0234cce99d2",
   "metadata": {},
   "outputs": [],
   "source": []
  }
 ],
 "metadata": {
  "kernelspec": {
   "display_name": "Python 3 (ipykernel)",
   "language": "python",
   "name": "python3"
  },
  "language_info": {
   "codemirror_mode": {
    "name": "ipython",
    "version": 3
   },
   "file_extension": ".py",
   "mimetype": "text/x-python",
   "name": "python",
   "nbconvert_exporter": "python",
   "pygments_lexer": "ipython3",
   "version": "3.12.7"
  }
 },
 "nbformat": 4,
 "nbformat_minor": 5
}
