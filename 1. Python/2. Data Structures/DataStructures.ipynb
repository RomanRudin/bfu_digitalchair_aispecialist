{
 "cells": [
  {
   "cell_type": "code",
   "execution_count": 1,
   "id": "70d001d8-7ca8-4944-9e60-3556f721e69c",
   "metadata": {},
   "outputs": [
    {
     "name": "stdout",
     "output_type": "stream",
     "text": [
      "['смотреть сериалы онлайн', 'новости спорта', 'смотреть новости', 'чемпионат мира по футболу']\n"
     ]
    }
   ],
   "source": [
    "queriesList = ['смотреть сериалы онлайн', 'новости спорта', 'смотреть новости', 'чемпионат мира по футболу']\n",
    "print(queriesList)"
   ]
  },
  {
   "cell_type": "code",
   "execution_count": 9,
   "id": "7b9c484f-c59b-48b4-834c-6ee3eb4d179e",
   "metadata": {},
   "outputs": [
    {
     "name": "stdout",
     "output_type": "stream",
     "text": [
      "5\n",
      "15\n",
      "[1, 2, 3, 4, 5]\n",
      "[5, 4, 3, 2, 1]\n"
     ]
    }
   ],
   "source": [
    "justNumbers = [ 2,1, 5, 4, 3 ]\n",
    "print(len( justNumbers ))\n",
    "print(sum( justNumbers ))\n",
    "print(sorted( justNumbers ))\n",
    "print(sorted( justNumbers, reverse = True ))"
   ]
  },
  {
   "cell_type": "code",
   "execution_count": 11,
   "id": "dd184323-0d65-40c5-83e7-b2976e0e236c",
   "metadata": {},
   "outputs": [
    {
     "name": "stdout",
     "output_type": "stream",
     "text": [
      "[2, 1, 5, 4, 3, 55]\n"
     ]
    }
   ],
   "source": [
    "justNumbers.append( 55 )\n",
    "print( justNumbers )"
   ]
  },
  {
   "cell_type": "code",
   "execution_count": 13,
   "id": "66651a67-fe59-4819-99cb-b79bffe34b41",
   "metadata": {},
   "outputs": [
    {
     "name": "stdout",
     "output_type": "stream",
     "text": [
      "['два', 'один', 'три']\n"
     ]
    }
   ],
   "source": [
    "list = ['один', 'два', 'три']\n",
    "print(sorted(list))"
   ]
  },
  {
   "cell_type": "code",
   "execution_count": 15,
   "id": "a04520a1-5708-490d-81e8-7c5812e6fd1e",
   "metadata": {},
   "outputs": [
    {
     "name": "stdout",
     "output_type": "stream",
     "text": [
      "['смотреть сериалы онлайн', 'новости спорта', 'афиша кино', 'курс доллара', 'сериалы этим летом', 'курс по питону', 'сериалы про спорт']\n"
     ]
    }
   ],
   "source": [
    "queries_string = \"смотреть сериалы онлайн,новости спорта,афиша кино,курс доллара,сериалы этим летом,курс по питону,сериалы про спорт\"\n",
    "print( queries_string.split(',') )"
   ]
  },
  {
   "cell_type": "code",
   "execution_count": 46,
   "id": "260c25fe-fa74-461e-ad1d-5b5e7494355a",
   "metadata": {},
   "outputs": [
    {
     "name": "stdout",
     "output_type": "stream",
     "text": [
      "['001_logs_2017-11-01', '002_logs_2017-11-02', '003_logs_2017-11-03', '004_logs_2017-11-04', '005_logs_2017-11-05', '006_logs_2017-11-06']\n"
     ]
    }
   ],
   "source": [
    "str = '003_logs_2017-11-03;001_logs_2017-11-01;005_logs_2017-11-05;002_logs_2017-11-02;004_logs_2017-11-04'\n",
    "fileList = str.split(';')\n",
    "fileList = sorted(fileList)\n",
    "fileList.append('006_logs_2017-11-06')\n",
    "print(fileList)"
   ]
  },
  {
   "cell_type": "code",
   "execution_count": 48,
   "id": "8932176e-9905-4fad-a924-1196ac873783",
   "metadata": {},
   "outputs": [
    {
     "name": "stdout",
     "output_type": "stream",
     "text": [
      "001_logs_2017-11-01||002_logs_2017-11-02||003_logs_2017-11-03||004_logs_2017-11-04||005_logs_2017-11-05||006_logs_2017-11-06\n"
     ]
    }
   ],
   "source": [
    "print( '||'.join( fileList ) )"
   ]
  },
  {
   "cell_type": "code",
   "execution_count": 58,
   "id": "9176b4cd-b2ff-430a-b50a-acba228ac662",
   "metadata": {},
   "outputs": [
    {
     "name": "stdout",
     "output_type": "stream",
     "text": [
      "Yandex Direct\n",
      "Google Adwords\n",
      "['Google Adwords', 'Yandex Direct', 'Facebook']\n",
      "['Facebook', 'VK']\n",
      "['Facebook', 'VK', 'Partner']\n"
     ]
    }
   ],
   "source": [
    "sequence = [ 'Google Adwords', 'Yandex Direct', 'Facebook', 'VK', 'Partner' ]\n",
    "print(sequence[1])\n",
    "print(sequence[0])\n",
    "print(sequence[:3])\n",
    "print(sequence[2:4])\n",
    "print(sequence[2:])"
   ]
  },
  {
   "cell_type": "code",
   "execution_count": 56,
   "id": "33ad239e-b3cd-4ad2-97a9-5bcd6e8535f6",
   "metadata": {},
   "outputs": [
    {
     "data": {
      "text/plain": [
       "[2, 4, 6, 8, 10]"
      ]
     },
     "execution_count": 56,
     "metadata": {},
     "output_type": "execute_result"
    }
   ],
   "source": [
    "justNumbers = [ 1, 2, 3, 4, 5, 6, 7, 8, 9, 10 ]\n",
    "justNumbers[ 1::2 ]"
   ]
  }
 ],
 "metadata": {
  "kernelspec": {
   "display_name": "Python 3 (ipykernel)",
   "language": "python",
   "name": "python3"
  },
  "language_info": {
   "codemirror_mode": {
    "name": "ipython",
    "version": 3
   },
   "file_extension": ".py",
   "mimetype": "text/x-python",
   "name": "python",
   "nbconvert_exporter": "python",
   "pygments_lexer": "ipython3",
   "version": "3.12.7"
  }
 },
 "nbformat": 4,
 "nbformat_minor": 5
}
