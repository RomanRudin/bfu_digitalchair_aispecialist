{
 "cells": [
  {
   "cell_type": "code",
   "execution_count": 3,
   "id": "5cf2ef96-6dd9-4be9-b5e7-8290aa292e90",
   "metadata": {},
   "outputs": [
    {
     "name": "stdout",
     "output_type": "stream",
     "text": [
      "Результаты кампаний: CTR1 - 0.0983% и CTR2 - 0.0040%\n",
      "True\n"
     ]
    }
   ],
   "source": [
    "banner1_shows = 1000000\n",
    "banner1_clicks = 983\n",
    "banner2_shows = 100000\n",
    "banner2_clicks = 4\n",
    "ctr1 = banner1_clicks / banner1_shows\n",
    "ctr2 = banner2_clicks / banner2_shows\n",
    "print( 'Результаты кампаний: CTR1 - {:.4%} и CTR2 - {:.4%}'.format( ctr1, ctr2 ) )\n",
    "print(ctr1 > ctr2)"
   ]
  }
 ],
 "metadata": {
  "kernelspec": {
   "display_name": "Python 3 (ipykernel)",
   "language": "python",
   "name": "python3"
  },
  "language_info": {
   "codemirror_mode": {
    "name": "ipython",
    "version": 3
   },
   "file_extension": ".py",
   "mimetype": "text/x-python",
   "name": "python",
   "nbconvert_exporter": "python",
   "pygments_lexer": "ipython3",
   "version": "3.12.6"
  }
 },
 "nbformat": 4,
 "nbformat_minor": 5
}
